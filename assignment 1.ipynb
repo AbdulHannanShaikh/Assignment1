{
 "cells": [
  {
   "cell_type": "code",
   "execution_count": 5,
   "metadata": {},
   "outputs": [
    {
     "name": "stdout",
     "output_type": "stream",
     "text": [
      "My name is Sherlock Holmes\n",
      "i was born on  1st August 1969\n",
      "i work as a Detective\n",
      "my phone number is 03311234567 dont call me please, im busy in solving crimes\n",
      "i live at 221B Baker Street\n",
      "i live in London\n"
     ]
    }
   ],
   "source": [
    "name=\"Sherlock Holmes\"\n",
    "DOB=\"1st August 1969\"\n",
    "city=\"London\"\n",
    "edu=\"Detective\"\n",
    "pno=\"03311234567\"\n",
    "address=\"221B Baker Street\"\n",
    "print(\"My name is\",name)\n",
    "print(\"i was born on \",DOB)\n",
    "print(\"i work as a\",edu)\n",
    "print(\"my phone number is\",pno,\"dont call me please, im busy in solving crimes\")\n",
    "print(\"i live at\",address)\n",
    "print(\"i live in\",city)"
   ]
  }
 ],
 "metadata": {
  "kernelspec": {
   "display_name": "Python 3",
   "language": "python",
   "name": "python3"
  },
  "language_info": {
   "codemirror_mode": {
    "name": "ipython",
    "version": 3
   },
   "file_extension": ".py",
   "mimetype": "text/x-python",
   "name": "python",
   "nbconvert_exporter": "python",
   "pygments_lexer": "ipython3",
   "version": "3.7.4"
  }
 },
 "nbformat": 4,
 "nbformat_minor": 2
}
