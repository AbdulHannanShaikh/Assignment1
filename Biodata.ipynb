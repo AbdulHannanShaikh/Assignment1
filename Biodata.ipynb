{
 "cells": [
  {
   "cell_type": "code",
   "execution_count": null,
   "metadata": {},
   "outputs": [],
   "source": [
    "name=\"Abdul Hannan Shaikh\"\n",
    "DOB=\"1-august-2001\"\n",
    "city=\"Karachi\"\n",
    "edu=\"BS(CS) in progress\"\n",
    "p.no=\"03311234567\"\n",
    "address=\"A-476,Block 'c',North nazimabad\"\n"
   ]
  }
 ],
 "metadata": {
  "kernelspec": {
   "display_name": "Python 3",
   "language": "python",
   "name": "python3"
  },
  "language_info": {
   "codemirror_mode": {
    "name": "ipython",
    "version": 3
   },
   "file_extension": ".py",
   "mimetype": "text/x-python",
   "name": "python",
   "nbconvert_exporter": "python",
   "pygments_lexer": "ipython3",
   "version": "3.7.4"
  }
 },
 "nbformat": 4,
 "nbformat_minor": 2
}
